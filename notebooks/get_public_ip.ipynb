{
 "cells": [
  {
   "cell_type": "code",
   "execution_count": 64,
   "metadata": {},
   "outputs": [],
   "source": [
    "import boto3\n",
    "import mlflow\n",
    "import yaml"
   ]
  },
  {
   "cell_type": "code",
   "execution_count": 70,
   "metadata": {},
   "outputs": [
    {
     "data": {
      "text/plain": [
       "'52.58.237.228'"
      ]
     },
     "execution_count": 70,
     "metadata": {},
     "output_type": "execute_result"
    }
   ],
   "source": [
    "aws_profile = 'my-dev-profile'\n",
    "\n",
    "main_config_path = '../config/main.yaml'\n",
    "\n",
    "# read yaml main_config_path\n",
    "with open(main_config_path, 'r') as stream:\n",
    "    try:\n",
    "        main_config = yaml.safe_load(stream)\n",
    "    except yaml.YAMLError as exc:\n",
    "        print(exc)\n",
    "\n",
    "ec2_tags = main_config['aws']['ec2_tags']\n",
    "\n",
    "# Create an EC2 client\n",
    "ec2_client = boto3.Session(profile_name=aws_profile).client('ec2')\n",
    "\n",
    "# Get the response of the EC2 client based on all the tags in ec2_tags\n",
    "filters = []\n",
    "\n",
    "for key, value in ec2_tags.items():\n",
    "    filters.append(\n",
    "        {\n",
    "            'Name': f'tag:{key}',\n",
    "            'Values': [value]\n",
    "        }\n",
    "    )\n",
    "\n",
    "try:\n",
    "    response = ec2_client.describe_instances(Filters=filters)\n",
    "\n",
    "    # Get the public IP address of the current EC2 instance\n",
    "    public_ip_address = response['Reservations'][0]['Instances'][0]['PublicIpAddress']\n",
    "except:\n",
    "    public_ip_address = 'No public IP address found'\n",
    "public_ip_address"
   ]
  },
  {
   "cell_type": "code",
   "execution_count": 8,
   "metadata": {},
   "outputs": [],
   "source": [
    "ec2_client = session.client('ec2')"
   ]
  },
  {
   "cell_type": "code",
   "execution_count": 36,
   "metadata": {},
   "outputs": [],
   "source": [
    "# Get the instance ID of the current EC2 instance\n",
    "instance_id = 'i-0e907da21b460b6fd'  # You can also fetch this dynamically if needed"
   ]
  },
  {
   "cell_type": "code",
   "execution_count": 44,
   "metadata": {},
   "outputs": [],
   "source": [
    "# get the public IP address of the current EC2 instance\n",
    "response = ec2_client.describe_instances(InstanceIds=[instance_id])"
   ]
  },
  {
   "cell_type": "code",
   "execution_count": 54,
   "metadata": {},
   "outputs": [],
   "source": []
  },
  {
   "cell_type": "code",
   "execution_count": 55,
   "metadata": {},
   "outputs": [
    {
     "data": {
      "text/plain": [
       "'52.58.237.228'"
      ]
     },
     "execution_count": 55,
     "metadata": {},
     "output_type": "execute_result"
    }
   ],
   "source": [
    "public_ip_address"
   ]
  },
  {
   "cell_type": "code",
   "execution_count": 56,
   "metadata": {},
   "outputs": [],
   "source": [
    "from sklearn.metrics import mean_squared_error, mean_absolute_error, r2_score"
   ]
  },
  {
   "cell_type": "code",
   "execution_count": 57,
   "metadata": {},
   "outputs": [],
   "source": [
    "metric_name = lambda x: x.__name__.replace(\"_\", \"-\")"
   ]
  },
  {
   "cell_type": "code",
   "execution_count": 59,
   "metadata": {},
   "outputs": [],
   "source": [
    "mae = mean_absolute_error([6, 5, 5], [5, 3, 2])"
   ]
  },
  {
   "cell_type": "code",
   "execution_count": 63,
   "metadata": {},
   "outputs": [
    {
     "ename": "AttributeError",
     "evalue": "'numpy.float64' object has no attribute '__name__'",
     "output_type": "error",
     "traceback": [
      "\u001b[0;31m---------------------------------------------------------------------------\u001b[0m",
      "\u001b[0;31mAttributeError\u001b[0m                            Traceback (most recent call last)",
      "\u001b[1;32m/home/emile/dev/dutch-fuel-prices/notebooks/get_public_ip.ipynb Cell 11\u001b[0m line \u001b[0;36m1\n\u001b[0;32m----> <a href='vscode-notebook-cell://wsl%2Bubuntu-22.04/home/emile/dev/dutch-fuel-prices/notebooks/get_public_ip.ipynb#X30sdnNjb2RlLXJlbW90ZQ%3D%3D?line=0'>1</a>\u001b[0m mean_absolute_error([\u001b[39m6\u001b[39;49m, \u001b[39m5\u001b[39;49m, \u001b[39m5\u001b[39;49m], [\u001b[39m5\u001b[39;49m, \u001b[39m3\u001b[39;49m, \u001b[39m2\u001b[39;49m])\u001b[39m.\u001b[39;49m\u001b[39m__name__\u001b[39;49m\n",
      "\u001b[0;31mAttributeError\u001b[0m: 'numpy.float64' object has no attribute '__name__'"
     ]
    }
   ],
   "source": [
    "mean_absolute_error([6, 5, 5], [5, 3, 2]).__name__"
   ]
  },
  {
   "cell_type": "code",
   "execution_count": null,
   "metadata": {},
   "outputs": [],
   "source": []
  }
 ],
 "metadata": {
  "kernelspec": {
   "display_name": "dutch-fuel-prices-mNnnt_qf-py3.11",
   "language": "python",
   "name": "python3"
  },
  "language_info": {
   "codemirror_mode": {
    "name": "ipython",
    "version": 3
   },
   "file_extension": ".py",
   "mimetype": "text/x-python",
   "name": "python",
   "nbconvert_exporter": "python",
   "pygments_lexer": "ipython3",
   "version": "3.11.0rc1"
  },
  "orig_nbformat": 4
 },
 "nbformat": 4,
 "nbformat_minor": 2
}
